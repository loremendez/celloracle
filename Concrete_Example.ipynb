{
 "cells": [
  {
   "cell_type": "markdown",
   "metadata": {},
   "source": [
    "# 0. Import libraries"
   ]
  },
  {
   "cell_type": "code",
   "execution_count": 1,
   "metadata": {},
   "outputs": [],
   "source": [
    "# 0. Import\n",
    "\n",
    "import os, sys, json\n",
    "\n",
    "import matplotlib.pyplot as plt\n",
    "import numpy as np\n",
    "import pandas as pd\n",
    "import scanpy as sc\n",
    "import seaborn as sns\n"
   ]
  },
  {
   "cell_type": "code",
   "execution_count": 2,
   "metadata": {
    "scrolled": true
   },
   "outputs": [
    {
     "data": {
      "text/plain": [
       "'0.6.3'"
      ]
     },
     "execution_count": 2,
     "metadata": {},
     "output_type": "execute_result"
    }
   ],
   "source": [
    "import celloracle as co\n",
    "co.__version__"
   ]
  },
  {
   "cell_type": "code",
   "execution_count": 3,
   "metadata": {},
   "outputs": [],
   "source": [
    "# visualization settings\n",
    "%config InlineBackend.figure_format = 'retina'\n",
    "%matplotlib inline\n",
    "\n",
    "plt.rcParams['figure.figsize'] = [6, 4.5]\n",
    "plt.rcParams[\"savefig.dpi\"] = 300"
   ]
  },
  {
   "cell_type": "markdown",
   "metadata": {},
   "source": [
    "## 0.1. Check installation\n",
    "\n",
    "Celloracle uses some R libraries in network analysis. \n",
    "Please make sure that all dependent R libraries are installed on your computer.\n",
    "You can test the installation with the following command."
   ]
  },
  {
   "cell_type": "code",
   "execution_count": 4,
   "metadata": {},
   "outputs": [
    {
     "name": "stdout",
     "output_type": "stream",
     "text": [
      "R path: /home/lorena/anaconda3/envs/celloracle_env/bin/R\n",
      "checking R library installation: igraph -> OK\n",
      "checking R library installation: linkcomm -> OK\n",
      "checking R library installation: rnetcarto -> OK\n"
     ]
    }
   ],
   "source": [
    "co.network_analysis.test_R_libraries_installation()"
   ]
  },
  {
   "cell_type": "markdown",
   "metadata": {},
   "source": [
    "## 0.2. Make a folder to save graph"
   ]
  },
  {
   "cell_type": "code",
   "execution_count": 5,
   "metadata": {},
   "outputs": [],
   "source": [
    "save_folder = \"figures\"\n",
    "os.makedirs(save_folder, exist_ok=True)"
   ]
  },
  {
   "cell_type": "markdown",
   "metadata": {},
   "source": [
    "# 1. Load data\n",
    "## 1.1. Load processed gene expression data (anndata)\n",
    "Please refer to the previous notebook in the tutorial for an example of how to process scRNA-seq data."
   ]
  },
  {
   "cell_type": "code",
   "execution_count": 6,
   "metadata": {},
   "outputs": [],
   "source": [
    "# Load data. !!Replace the data path below when you use another data.\n",
    "adata = sc.read_h5ad(\"./inputs/pancreas_data.h5ad\")"
   ]
  },
  {
   "cell_type": "code",
   "execution_count": 7,
   "metadata": {},
   "outputs": [
    {
     "data": {
      "text/plain": [
       "AnnData object with n_obs × n_vars = 3696 × 2000\n",
       "    obs: 'clusters_coarse', 'clusters', 'S_score', 'G2M_score', 'initial_size_spliced', 'initial_size_unspliced', 'initial_size', 'n_counts'\n",
       "    var: 'highly_variable_genes', 'gene_count_corr', 'means', 'dispersions', 'dispersions_norm', 'highly_variable'\n",
       "    uns: 'clusters_coarse_colors', 'clusters_colors', 'day_colors', 'neighbors', 'pca'\n",
       "    obsm: 'X_pca', 'X_umap'\n",
       "    layers: 'Ms', 'Mu', 'spliced', 'unspliced'\n",
       "    obsp: 'connectivities', 'distances'"
      ]
     },
     "execution_count": 7,
     "metadata": {},
     "output_type": "execute_result"
    }
   ],
   "source": [
    "adata"
   ]
  },
  {
   "cell_type": "markdown",
   "metadata": {},
   "source": [
    "# 2. Initiate Oracle object\n",
    "\n",
    "Celloracle has a custom called Oracle. We can use Oracle for the data preprocessing and GRN inference steps.\n",
    "The Oracle object stores all of necessary information and does the calculations with its internal functions.\n",
    "We instantiate an Oracle object, then input the gene expression data (anndata) and a TFinfo into the Oracle object."
   ]
  },
  {
   "cell_type": "code",
   "execution_count": 8,
   "metadata": {},
   "outputs": [],
   "source": [
    "# Instantiate Oracle object\n",
    "oracle = co.Oracle()"
   ]
  },
  {
   "cell_type": "markdown",
   "metadata": {},
   "source": [
    "Ne## 2.1. load gene expression data into oracle object."
   ]
  },
  {
   "cell_type": "markdown",
   "metadata": {},
   "source": [
    "When you load a scRNA-seq data, please enter the name of clustering data and dimensional reduction data.\n",
    "The clustering data should be to be stored in the attribute of \"obs\" in the anndata.\n",
    "Dimensional reduction data suppose to be stored in the attribute of \"obsm\" in the anndata.\n",
    "You can check these data by the following command.\n",
    "\n",
    "If you are not familiar with anndata, please look at the documentation of annata (https://anndata.readthedocs.io/en/stable/) or Scanpy (https://scanpy.readthedocs.io/en/stable/).\n",
    "\n",
    "For the celloracle analysis, the anndata shoud include (1) gene expression count, (2) clustering information, (3) trajectory (dimensional reduction embeddings) data. Please refer to another notebook for more information on anndata preprocessing.\n",
    "\n"
   ]
  },
  {
   "cell_type": "code",
   "execution_count": 9,
   "metadata": {},
   "outputs": [
    {
     "name": "stdout",
     "output_type": "stream",
     "text": [
      "metadata columns : ['clusters_coarse', 'clusters', 'S_score', 'G2M_score', 'initial_size_spliced', 'initial_size_unspliced', 'initial_size', 'n_counts']\n",
      "dimensional reduction:  ['X_pca', 'X_umap']\n"
     ]
    }
   ],
   "source": [
    "# show data name in anndata\n",
    "print(\"metadata columns :\", list(adata.obs.columns))\n",
    "print(\"dimensional reduction: \", list(adata.obsm.keys()))"
   ]
  },
  {
   "cell_type": "code",
   "execution_count": 10,
   "metadata": {},
   "outputs": [],
   "source": [
    "# In this notebook, we use raw mRNA count as an input of Oracle object.\n",
    "#adata.X = adata.raw.X.copy()\n",
    "\n",
    "# Instantiate Oracle object.\n",
    "oracle.import_anndata_as_raw_count(adata=adata,\n",
    "                                   cluster_column_name=\"clusters\",\n",
    "                                   embedding_name=\"X_umap\", \n",
    "                                   transform=None) #already done using scVelo"
   ]
  },
  {
   "cell_type": "markdown",
   "metadata": {},
   "source": [
    "## 2.2. Load TFinfo into oracle object"
   ]
  },
  {
   "cell_type": "code",
   "execution_count": 11,
   "metadata": {},
   "outputs": [],
   "source": [
    "with open('TF_targets_pancreas.json', 'r') as fp:\n",
    "    TF_info = json.load(fp)"
   ]
  },
  {
   "cell_type": "code",
   "execution_count": 12,
   "metadata": {},
   "outputs": [],
   "source": [
    "# Add TF information \n",
    "oracle.addTFinfo_dictionary(TF_info)"
   ]
  },
  {
   "cell_type": "markdown",
   "metadata": {},
   "source": [
    "# 3. Knn imputation\n",
    "Celloracle uses almost the same strategy as velocyto for visualizing cell transitions. This process requires KNN imputation in advance.\n",
    "\n",
    "For the KNN imputation, we need PCA and PC selection first.\n",
    "\n",
    "## 3.1. PCA"
   ]
  },
  {
   "cell_type": "code",
   "execution_count": 13,
   "metadata": {},
   "outputs": [
    {
     "name": "stdout",
     "output_type": "stream",
     "text": [
      "24\n"
     ]
    },
    {
     "data": {
      "image/png": "[encoded data removed]",
      "text/plain": [
       "<Figure size 432x324 with 1 Axes>"
      ]
     },
     "metadata": {
      "image/png": {
       "height": 275,
       "width": 378
      },
      "needs_background": "light"
     },
     "output_type": "display_data"
    }
   ],
   "source": [
    "# Perform PCA\n",
    "oracle.perform_PCA()\n",
    "\n",
    "# Select important PCs\n",
    "plt.plot(np.cumsum(oracle.pca.explained_variance_ratio_)[:100])\n",
    "n_comps = np.where(np.diff(np.diff(np.cumsum(oracle.pca.explained_variance_ratio_))>0.002))[0][0]\n",
    "plt.axvline(n_comps, c=\"k\")\n",
    "print(n_comps)\n",
    "n_comps = min(n_comps, 50)"
   ]
  },
  {
   "cell_type": "code",
   "execution_count": 14,
   "metadata": {},
   "outputs": [
    {
     "data": {
      "text/plain": [
       "(3696, 24)"
      ]
     },
     "execution_count": 14,
     "metadata": {},
     "output_type": "execute_result"
    }
   ],
   "source": [
    "oracle.pcs[:, :24].shape"
   ]
  },
  {
   "cell_type": "markdown",
   "metadata": {},
   "source": [
    "## 3.2. KNN imputation"
   ]
  },
  {
   "cell_type": "markdown",
   "metadata": {},
   "source": [
    "Estimate the optimal number of nearest neighbors for KNN imputation."
   ]
  },
  {
   "cell_type": "code",
   "execution_count": 15,
   "metadata": {},
   "outputs": [
    {
     "name": "stdout",
     "output_type": "stream",
     "text": [
      "cell number is :3696\n"
     ]
    }
   ],
   "source": [
    "n_cell = oracle.adata.shape[0]\n",
    "print(f\"cell number is :{n_cell}\")"
   ]
  },
  {
   "cell_type": "code",
   "execution_count": 16,
   "metadata": {},
   "outputs": [
    {
     "name": "stdout",
     "output_type": "stream",
     "text": [
      "Auto-selected k is :92\n"
     ]
    }
   ],
   "source": [
    "k = int(0.025*n_cell)\n",
    "print(f\"Auto-selected k is :{k}\")"
   ]
  },
  {
   "cell_type": "code",
   "execution_count": 17,
   "metadata": {},
   "outputs": [],
   "source": [
    "oracle.knn_imputation(n_pca_dims=n_comps, k=k, balanced=True, b_sight=k*8, b_maxl=k*4, n_jobs=12)"
   ]
  },
  {
   "cell_type": "markdown",
   "metadata": {},
   "source": [
    "# 4. Save and Load.\n",
    "\n",
    "Celloracle has some custom-classes: Links, Oracle and TFinfo.\n",
    "You can save such an object using \"to_hdf5\".\n",
    "\n",
    "Please use \"load_hdf5\" function to load the file.\n"
   ]
  },
  {
   "cell_type": "code",
   "execution_count": 18,
   "metadata": {},
   "outputs": [],
   "source": [
    "# Save oracle object.\n",
    "oracle.to_hdf5(\"Pancreas_data.celloracle.oracle\")"
   ]
  },
  {
   "cell_type": "code",
   "execution_count": 19,
   "metadata": {},
   "outputs": [],
   "source": [
    "# Load file.\n",
    "#oracle = co.load_hdf5(\"Pancreas_data.celloracle.oracle\")"
   ]
  },
  {
   "cell_type": "markdown",
   "metadata": {},
   "source": [
    "# 5. GRN calculation\n",
    "The next step is constructing a cluster-specific GRN for all clusters.\n",
    "\n",
    "You can calculate  GRNs with the \"get_links\" function, and the function returns GRNs as a Links object.\n",
    "The Links object stores inferred GRNs and the corresponding metadata. You can do network analysis with the Links object.\n",
    "\n",
    "The GRN will be calculated for each cluster/sub-group.\n",
    "\n",
    "The GRNs can be calculated at any arbitrary unit as long as the clustering information is stored in anndata."
   ]
  },
  {
   "cell_type": "code",
   "execution_count": 20,
   "metadata": {},
   "outputs": [
    {
     "data": {
      "text/plain": [
       "AnnData object with n_obs × n_vars = 3696 × 2000\n",
       "    obs: 'clusters_coarse', 'clusters', 'S_score', 'G2M_score', 'initial_size_spliced', 'initial_size_unspliced', 'initial_size', 'n_counts'\n",
       "    var: 'highly_variable_genes', 'gene_count_corr', 'means', 'dispersions', 'dispersions_norm', 'highly_variable'\n",
       "    uns: 'clusters_coarse_colors', 'clusters_colors', 'day_colors', 'neighbors', 'pca'\n",
       "    obsm: 'X_pca', 'X_umap'\n",
       "    layers: 'Ms', 'Mu', 'spliced', 'unspliced'\n",
       "    obsp: 'connectivities', 'distances'"
      ]
     },
     "execution_count": 20,
     "metadata": {},
     "output_type": "execute_result"
    }
   ],
   "source": [
    "adata"
   ]
  },
  {
   "cell_type": "code",
   "execution_count": 21,
   "metadata": {
    "scrolled": true
   },
   "outputs": [],
   "source": [
    "# check data\n",
    "sc.tl.draw_graph(adata)"
   ]
  },
  {
   "cell_type": "code",
   "execution_count": 22,
   "metadata": {},
   "outputs": [
    {
     "data": {
      "image/png": "[encoded data removed]",
      "text/plain": [
       "<Figure size 432x324 with 1 Axes>"
      ]
     },
     "metadata": {
      "image/png": {
       "height": 288,
       "width": 473
      }
     },
     "output_type": "display_data"
    }
   ],
   "source": [
    "sc.pl.draw_graph(adata, color = \"clusters\")"
   ]
  },
  {
   "cell_type": "markdown",
   "metadata": {},
   "source": [
    "## 5.1. Get GRNs"
   ]
  },
  {
   "cell_type": "code",
   "execution_count": 23,
   "metadata": {},
   "outputs": [
    {
     "data": {
      "text/html": [
       "<div>\n",
       "<style scoped>\n",
       "    .dataframe tbody tr th:only-of-type {\n",
       "        vertical-align: middle;\n",
       "    }\n",
       "\n",
       "    .dataframe tbody tr th {\n",
       "        vertical-align: top;\n",
       "    }\n",
       "\n",
       "    .dataframe thead th {\n",
       "        text-align: right;\n",
       "    }\n",
       "</style>\n",
       "<table border=\"1\" class=\"dataframe\">\n",
       "  <thead>\n",
       "    <tr style=\"text-align: right;\">\n",
       "      <th></th>\n",
       "      <th>clusters_coarse</th>\n",
       "      <th>clusters</th>\n",
       "      <th>S_score</th>\n",
       "      <th>G2M_score</th>\n",
       "      <th>initial_size_spliced</th>\n",
       "      <th>initial_size_unspliced</th>\n",
       "      <th>initial_size</th>\n",
       "      <th>n_counts</th>\n",
       "    </tr>\n",
       "    <tr>\n",
       "      <th>index</th>\n",
       "      <th></th>\n",
       "      <th></th>\n",
       "      <th></th>\n",
       "      <th></th>\n",
       "      <th></th>\n",
       "      <th></th>\n",
       "      <th></th>\n",
       "      <th></th>\n",
       "    </tr>\n",
       "  </thead>\n",
       "  <tbody>\n",
       "    <tr>\n",
       "      <th>AAACCTGAGAGGGATA</th>\n",
       "      <td>Pre-endocrine</td>\n",
       "      <td>Pre-endocrine</td>\n",
       "      <td>-0.224902</td>\n",
       "      <td>-0.252071</td>\n",
       "      <td>4954.0</td>\n",
       "      <td>1575.0</td>\n",
       "      <td>4954.0</td>\n",
       "      <td>5410.060059</td>\n",
       "    </tr>\n",
       "    <tr>\n",
       "      <th>AAACCTGAGCCTTGAT</th>\n",
       "      <td>Ductal</td>\n",
       "      <td>Ductal</td>\n",
       "      <td>-0.014707</td>\n",
       "      <td>-0.232610</td>\n",
       "      <td>7071.0</td>\n",
       "      <td>978.0</td>\n",
       "      <td>7071.0</td>\n",
       "      <td>5476.578125</td>\n",
       "    </tr>\n",
       "    <tr>\n",
       "      <th>AAACCTGAGGCAATTA</th>\n",
       "      <td>Endocrine</td>\n",
       "      <td>Alpha</td>\n",
       "      <td>-0.171255</td>\n",
       "      <td>-0.286834</td>\n",
       "      <td>4070.0</td>\n",
       "      <td>1095.0</td>\n",
       "      <td>4070.0</td>\n",
       "      <td>5436.109863</td>\n",
       "    </tr>\n",
       "    <tr>\n",
       "      <th>AAACCTGCATCATCCC</th>\n",
       "      <td>Ductal</td>\n",
       "      <td>Ductal</td>\n",
       "      <td>0.599244</td>\n",
       "      <td>0.191243</td>\n",
       "      <td>8362.0</td>\n",
       "      <td>1655.0</td>\n",
       "      <td>8362.0</td>\n",
       "      <td>5505.859863</td>\n",
       "    </tr>\n",
       "    <tr>\n",
       "      <th>AAACCTGGTAAGTGGC</th>\n",
       "      <td>Ngn3 high EP</td>\n",
       "      <td>Ngn3 high EP</td>\n",
       "      <td>-0.179981</td>\n",
       "      <td>-0.126030</td>\n",
       "      <td>5026.0</td>\n",
       "      <td>1014.0</td>\n",
       "      <td>5026.0</td>\n",
       "      <td>5473.050781</td>\n",
       "    </tr>\n",
       "    <tr>\n",
       "      <th>...</th>\n",
       "      <td>...</td>\n",
       "      <td>...</td>\n",
       "      <td>...</td>\n",
       "      <td>...</td>\n",
       "      <td>...</td>\n",
       "      <td>...</td>\n",
       "      <td>...</td>\n",
       "      <td>...</td>\n",
       "    </tr>\n",
       "    <tr>\n",
       "      <th>TTTGTCAAGTGACATA</th>\n",
       "      <td>Pre-endocrine</td>\n",
       "      <td>Pre-endocrine</td>\n",
       "      <td>-0.235896</td>\n",
       "      <td>-0.266101</td>\n",
       "      <td>9219.0</td>\n",
       "      <td>2488.0</td>\n",
       "      <td>9219.0</td>\n",
       "      <td>5448.891602</td>\n",
       "    </tr>\n",
       "    <tr>\n",
       "      <th>TTTGTCAAGTGTGGCA</th>\n",
       "      <td>Ngn3 high EP</td>\n",
       "      <td>Ngn3 high EP</td>\n",
       "      <td>0.279374</td>\n",
       "      <td>-0.204047</td>\n",
       "      <td>7298.0</td>\n",
       "      <td>943.0</td>\n",
       "      <td>7298.0</td>\n",
       "      <td>5568.489258</td>\n",
       "    </tr>\n",
       "    <tr>\n",
       "      <th>TTTGTCAGTTGTTTGG</th>\n",
       "      <td>Ductal</td>\n",
       "      <td>Ductal</td>\n",
       "      <td>-0.045692</td>\n",
       "      <td>-0.208907</td>\n",
       "      <td>5234.0</td>\n",
       "      <td>789.0</td>\n",
       "      <td>5234.0</td>\n",
       "      <td>5585.724121</td>\n",
       "    </tr>\n",
       "    <tr>\n",
       "      <th>TTTGTCATCGAATGCT</th>\n",
       "      <td>Endocrine</td>\n",
       "      <td>Alpha</td>\n",
       "      <td>-0.240576</td>\n",
       "      <td>-0.206865</td>\n",
       "      <td>10260.0</td>\n",
       "      <td>1851.0</td>\n",
       "      <td>10260.0</td>\n",
       "      <td>5530.529785</td>\n",
       "    </tr>\n",
       "    <tr>\n",
       "      <th>TTTGTCATCTGTTTGT</th>\n",
       "      <td>Endocrine</td>\n",
       "      <td>Epsilon</td>\n",
       "      <td>-0.136407</td>\n",
       "      <td>-0.184763</td>\n",
       "      <td>5922.0</td>\n",
       "      <td>1439.0</td>\n",
       "      <td>5922.0</td>\n",
       "      <td>5518.329590</td>\n",
       "    </tr>\n",
       "  </tbody>\n",
       "</table>\n",
       "<p>3696 rows × 8 columns</p>\n",
       "</div>"
      ],
      "text/plain": [
       "                 clusters_coarse       clusters   S_score  G2M_score  \\\n",
       "index                                                                  \n",
       "AAACCTGAGAGGGATA   Pre-endocrine  Pre-endocrine -0.224902  -0.252071   \n",
       "AAACCTGAGCCTTGAT          Ductal         Ductal -0.014707  -0.232610   \n",
       "AAACCTGAGGCAATTA       Endocrine          Alpha -0.171255  -0.286834   \n",
       "AAACCTGCATCATCCC          Ductal         Ductal  0.599244   0.191243   \n",
       "AAACCTGGTAAGTGGC    Ngn3 high EP   Ngn3 high EP -0.179981  -0.126030   \n",
       "...                          ...            ...       ...        ...   \n",
       "TTTGTCAAGTGACATA   Pre-endocrine  Pre-endocrine -0.235896  -0.266101   \n",
       "TTTGTCAAGTGTGGCA    Ngn3 high EP   Ngn3 high EP  0.279374  -0.204047   \n",
       "TTTGTCAGTTGTTTGG          Ductal         Ductal -0.045692  -0.208907   \n",
       "TTTGTCATCGAATGCT       Endocrine          Alpha -0.240576  -0.206865   \n",
       "TTTGTCATCTGTTTGT       Endocrine        Epsilon -0.136407  -0.184763   \n",
       "\n",
       "                  initial_size_spliced  initial_size_unspliced  initial_size  \\\n",
       "index                                                                          \n",
       "AAACCTGAGAGGGATA                4954.0                  1575.0        4954.0   \n",
       "AAACCTGAGCCTTGAT                7071.0                   978.0        7071.0   \n",
       "AAACCTGAGGCAATTA                4070.0                  1095.0        4070.0   \n",
       "AAACCTGCATCATCCC                8362.0                  1655.0        8362.0   \n",
       "AAACCTGGTAAGTGGC                5026.0                  1014.0        5026.0   \n",
       "...                                ...                     ...           ...   \n",
       "TTTGTCAAGTGACATA                9219.0                  2488.0        9219.0   \n",
       "TTTGTCAAGTGTGGCA                7298.0                   943.0        7298.0   \n",
       "TTTGTCAGTTGTTTGG                5234.0                   789.0        5234.0   \n",
       "TTTGTCATCGAATGCT               10260.0                  1851.0       10260.0   \n",
       "TTTGTCATCTGTTTGT                5922.0                  1439.0        5922.0   \n",
       "\n",
       "                     n_counts  \n",
       "index                          \n",
       "AAACCTGAGAGGGATA  5410.060059  \n",
       "AAACCTGAGCCTTGAT  5476.578125  \n",
       "AAACCTGAGGCAATTA  5436.109863  \n",
       "AAACCTGCATCATCCC  5505.859863  \n",
       "AAACCTGGTAAGTGGC  5473.050781  \n",
       "...                       ...  \n",
       "TTTGTCAAGTGACATA  5448.891602  \n",
       "TTTGTCAAGTGTGGCA  5568.489258  \n",
       "TTTGTCAGTTGTTTGG  5585.724121  \n",
       "TTTGTCATCGAATGCT  5530.529785  \n",
       "TTTGTCATCTGTTTGT  5518.329590  \n",
       "\n",
       "[3696 rows x 8 columns]"
      ]
     },
     "execution_count": 23,
     "metadata": {},
     "output_type": "execute_result"
    }
   ],
   "source": [
    "oracle.adata.obs"
   ]
  },
  {
   "cell_type": "code",
   "execution_count": 24,
   "metadata": {},
   "outputs": [
    {
     "data": {
      "text/plain": [
       "1857"
      ]
     },
     "execution_count": 24,
     "metadata": {},
     "output_type": "execute_result"
    }
   ],
   "source": [
    "len(oracle.TFdict.keys())"
   ]
  },
  {
   "cell_type": "code",
   "execution_count": 25,
   "metadata": {},
   "outputs": [],
   "source": [
    "from celloracle.network_analysis.network_construction import _fit_GRN_for_network_analysis\n",
    "from celloracle.trajectory.oracle_utility import _adata_to_df\n",
    "from celloracle.utility import standard\n",
    "from celloracle.network.net_core import Net"
   ]
  },
  {
   "cell_type": "code",
   "execution_count": 26,
   "metadata": {},
   "outputs": [],
   "source": [
    "gem_imputed = _adata_to_df(oracle.adata, \"imputed_count\") #imputed count\n",
    "gem_imputed_std = standard(gem_imputed) #standardize imputed count\n",
    "cluster_info = oracle.adata.obs[\"clusters\"] #map cell-cluster"
   ]
  },
  {
   "cell_type": "code",
   "execution_count": 27,
   "metadata": {},
   "outputs": [],
   "source": [
    "# Ngn3 high EP Cluster\n",
    "\n",
    "cells_in_the_cluster_bool = (cluster_info == \"Ngn3 high EP\")\n",
    "gem_ = gem_imputed[cells_in_the_cluster_bool]\n",
    "gem_std = gem_imputed_std[cells_in_the_cluster_bool]"
   ]
  },
  {
   "cell_type": "code",
   "execution_count": 54,
   "metadata": {},
   "outputs": [
    {
     "data": {
      "text/html": [
       "<div>\n",
       "<style scoped>\n",
       "    .dataframe tbody tr th:only-of-type {\n",
       "        vertical-align: middle;\n",
       "    }\n",
       "\n",
       "    .dataframe tbody tr th {\n",
       "        vertical-align: top;\n",
       "    }\n",
       "\n",
       "    .dataframe thead th {\n",
       "        text-align: right;\n",
       "    }\n",
       "</style>\n",
       "<table border=\"1\" class=\"dataframe\">\n",
       "  <thead>\n",
       "    <tr style=\"text-align: right;\">\n",
       "      <th></th>\n",
       "      <th>Sntg1</th>\n",
       "      <th>Snhg6</th>\n",
       "      <th>Ncoa2</th>\n",
       "      <th>Sbspon</th>\n",
       "      <th>Ube2w</th>\n",
       "      <th>Mcm3</th>\n",
       "      <th>Fam135a</th>\n",
       "      <th>Adgrb3</th>\n",
       "      <th>Tmem131</th>\n",
       "      <th>Tbc1d8</th>\n",
       "      <th>...</th>\n",
       "      <th>Sh3kbp1</th>\n",
       "      <th>Map3k15</th>\n",
       "      <th>Rai2</th>\n",
       "      <th>Rbbp7</th>\n",
       "      <th>Ap1s2</th>\n",
       "      <th>Tmem27</th>\n",
       "      <th>Uty</th>\n",
       "      <th>Ddx3y</th>\n",
       "      <th>Eif2s3y</th>\n",
       "      <th>Erdr1</th>\n",
       "    </tr>\n",
       "  </thead>\n",
       "  <tbody>\n",
       "    <tr>\n",
       "      <th>AAACCTGGTAAGTGGC</th>\n",
       "      <td>0.0</td>\n",
       "      <td>0.331317</td>\n",
       "      <td>0.043057</td>\n",
       "      <td>0.008682</td>\n",
       "      <td>0.000000</td>\n",
       "      <td>0.082468</td>\n",
       "      <td>0.240271</td>\n",
       "      <td>0.057021</td>\n",
       "      <td>0.067412</td>\n",
       "      <td>0.091982</td>\n",
       "      <td>...</td>\n",
       "      <td>0.082975</td>\n",
       "      <td>0.388444</td>\n",
       "      <td>0.000000</td>\n",
       "      <td>0.524009</td>\n",
       "      <td>0.000000</td>\n",
       "      <td>0.008481</td>\n",
       "      <td>0.017866</td>\n",
       "      <td>0.081195</td>\n",
       "      <td>0.162490</td>\n",
       "      <td>0.260789</td>\n",
       "    </tr>\n",
       "    <tr>\n",
       "      <th>AAACGGGGTGAAATCA</th>\n",
       "      <td>0.0</td>\n",
       "      <td>0.385928</td>\n",
       "      <td>0.035375</td>\n",
       "      <td>0.008682</td>\n",
       "      <td>0.007630</td>\n",
       "      <td>0.150678</td>\n",
       "      <td>0.222513</td>\n",
       "      <td>0.026083</td>\n",
       "      <td>0.088173</td>\n",
       "      <td>0.160246</td>\n",
       "      <td>...</td>\n",
       "      <td>0.150213</td>\n",
       "      <td>0.402316</td>\n",
       "      <td>0.000000</td>\n",
       "      <td>0.486399</td>\n",
       "      <td>0.043597</td>\n",
       "      <td>0.016383</td>\n",
       "      <td>0.034936</td>\n",
       "      <td>0.214120</td>\n",
       "      <td>0.187825</td>\n",
       "      <td>0.338125</td>\n",
       "    </tr>\n",
       "    <tr>\n",
       "      <th>AAACGGGTCAAACAAG</th>\n",
       "      <td>0.0</td>\n",
       "      <td>0.450880</td>\n",
       "      <td>0.035102</td>\n",
       "      <td>0.007535</td>\n",
       "      <td>0.011573</td>\n",
       "      <td>0.198715</td>\n",
       "      <td>0.386362</td>\n",
       "      <td>0.006806</td>\n",
       "      <td>0.093229</td>\n",
       "      <td>0.154616</td>\n",
       "      <td>...</td>\n",
       "      <td>0.026738</td>\n",
       "      <td>0.196244</td>\n",
       "      <td>0.000000</td>\n",
       "      <td>0.501988</td>\n",
       "      <td>0.008878</td>\n",
       "      <td>0.030245</td>\n",
       "      <td>0.004476</td>\n",
       "      <td>0.064922</td>\n",
       "      <td>0.067473</td>\n",
       "      <td>0.151591</td>\n",
       "    </tr>\n",
       "    <tr>\n",
       "      <th>AAATGCCCACATCTTT</th>\n",
       "      <td>0.0</td>\n",
       "      <td>0.424607</td>\n",
       "      <td>0.040797</td>\n",
       "      <td>0.007535</td>\n",
       "      <td>0.004444</td>\n",
       "      <td>0.261542</td>\n",
       "      <td>0.284179</td>\n",
       "      <td>0.000000</td>\n",
       "      <td>0.100554</td>\n",
       "      <td>0.131965</td>\n",
       "      <td>...</td>\n",
       "      <td>0.013209</td>\n",
       "      <td>0.118344</td>\n",
       "      <td>0.000000</td>\n",
       "      <td>0.657292</td>\n",
       "      <td>0.000000</td>\n",
       "      <td>0.019998</td>\n",
       "      <td>0.011014</td>\n",
       "      <td>0.127707</td>\n",
       "      <td>0.136032</td>\n",
       "      <td>0.242412</td>\n",
       "    </tr>\n",
       "    <tr>\n",
       "      <th>AAATGCCCACCAACCG</th>\n",
       "      <td>0.0</td>\n",
       "      <td>0.445172</td>\n",
       "      <td>0.033654</td>\n",
       "      <td>0.000000</td>\n",
       "      <td>0.007630</td>\n",
       "      <td>0.105157</td>\n",
       "      <td>0.261211</td>\n",
       "      <td>0.054139</td>\n",
       "      <td>0.056974</td>\n",
       "      <td>0.199251</td>\n",
       "      <td>...</td>\n",
       "      <td>0.124835</td>\n",
       "      <td>0.371030</td>\n",
       "      <td>0.000000</td>\n",
       "      <td>0.405398</td>\n",
       "      <td>0.007404</td>\n",
       "      <td>0.000000</td>\n",
       "      <td>0.007793</td>\n",
       "      <td>0.184873</td>\n",
       "      <td>0.236252</td>\n",
       "      <td>0.249578</td>\n",
       "    </tr>\n",
       "    <tr>\n",
       "      <th>...</th>\n",
       "      <td>...</td>\n",
       "      <td>...</td>\n",
       "      <td>...</td>\n",
       "      <td>...</td>\n",
       "      <td>...</td>\n",
       "      <td>...</td>\n",
       "      <td>...</td>\n",
       "      <td>...</td>\n",
       "      <td>...</td>\n",
       "      <td>...</td>\n",
       "      <td>...</td>\n",
       "      <td>...</td>\n",
       "      <td>...</td>\n",
       "      <td>...</td>\n",
       "      <td>...</td>\n",
       "      <td>...</td>\n",
       "      <td>...</td>\n",
       "      <td>...</td>\n",
       "      <td>...</td>\n",
       "      <td>...</td>\n",
       "      <td>...</td>\n",
       "    </tr>\n",
       "    <tr>\n",
       "      <th>TTTATGCAGCGTCTAT</th>\n",
       "      <td>0.0</td>\n",
       "      <td>0.493896</td>\n",
       "      <td>0.043522</td>\n",
       "      <td>0.042269</td>\n",
       "      <td>0.000000</td>\n",
       "      <td>0.189344</td>\n",
       "      <td>0.353881</td>\n",
       "      <td>0.000000</td>\n",
       "      <td>0.077320</td>\n",
       "      <td>0.041018</td>\n",
       "      <td>...</td>\n",
       "      <td>0.007831</td>\n",
       "      <td>0.052959</td>\n",
       "      <td>0.000000</td>\n",
       "      <td>0.799565</td>\n",
       "      <td>0.000000</td>\n",
       "      <td>0.042605</td>\n",
       "      <td>0.000000</td>\n",
       "      <td>0.032083</td>\n",
       "      <td>0.095407</td>\n",
       "      <td>0.188794</td>\n",
       "    </tr>\n",
       "    <tr>\n",
       "      <th>TTTGCGCTCACTTACT</th>\n",
       "      <td>0.0</td>\n",
       "      <td>0.471445</td>\n",
       "      <td>0.026901</td>\n",
       "      <td>0.015015</td>\n",
       "      <td>0.011573</td>\n",
       "      <td>0.227360</td>\n",
       "      <td>0.358488</td>\n",
       "      <td>0.000000</td>\n",
       "      <td>0.109150</td>\n",
       "      <td>0.142924</td>\n",
       "      <td>...</td>\n",
       "      <td>0.017860</td>\n",
       "      <td>0.145426</td>\n",
       "      <td>0.000000</td>\n",
       "      <td>0.656682</td>\n",
       "      <td>0.000000</td>\n",
       "      <td>0.035931</td>\n",
       "      <td>0.004476</td>\n",
       "      <td>0.084535</td>\n",
       "      <td>0.072119</td>\n",
       "      <td>0.199921</td>\n",
       "    </tr>\n",
       "    <tr>\n",
       "      <th>TTTGGTTCACGAAGCA</th>\n",
       "      <td>0.0</td>\n",
       "      <td>0.470040</td>\n",
       "      <td>0.007981</td>\n",
       "      <td>0.006673</td>\n",
       "      <td>0.000000</td>\n",
       "      <td>0.262745</td>\n",
       "      <td>0.240832</td>\n",
       "      <td>0.020747</td>\n",
       "      <td>0.118141</td>\n",
       "      <td>0.233242</td>\n",
       "      <td>...</td>\n",
       "      <td>0.090943</td>\n",
       "      <td>0.293970</td>\n",
       "      <td>0.000000</td>\n",
       "      <td>0.350902</td>\n",
       "      <td>0.023238</td>\n",
       "      <td>0.014647</td>\n",
       "      <td>0.030347</td>\n",
       "      <td>0.182909</td>\n",
       "      <td>0.254784</td>\n",
       "      <td>0.229431</td>\n",
       "    </tr>\n",
       "    <tr>\n",
       "      <th>TTTGGTTTCACTTACT</th>\n",
       "      <td>0.0</td>\n",
       "      <td>0.485508</td>\n",
       "      <td>0.028303</td>\n",
       "      <td>0.071193</td>\n",
       "      <td>0.000000</td>\n",
       "      <td>0.282718</td>\n",
       "      <td>0.269129</td>\n",
       "      <td>0.000000</td>\n",
       "      <td>0.116147</td>\n",
       "      <td>0.032099</td>\n",
       "      <td>...</td>\n",
       "      <td>0.006683</td>\n",
       "      <td>0.030014</td>\n",
       "      <td>0.000000</td>\n",
       "      <td>0.939759</td>\n",
       "      <td>0.000000</td>\n",
       "      <td>0.060248</td>\n",
       "      <td>0.021189</td>\n",
       "      <td>0.087583</td>\n",
       "      <td>0.163748</td>\n",
       "      <td>0.218731</td>\n",
       "    </tr>\n",
       "    <tr>\n",
       "      <th>TTTGTCAAGTGTGGCA</th>\n",
       "      <td>0.0</td>\n",
       "      <td>0.436644</td>\n",
       "      <td>0.053208</td>\n",
       "      <td>0.008549</td>\n",
       "      <td>0.000000</td>\n",
       "      <td>0.308600</td>\n",
       "      <td>0.250402</td>\n",
       "      <td>0.037714</td>\n",
       "      <td>0.095618</td>\n",
       "      <td>0.206455</td>\n",
       "      <td>...</td>\n",
       "      <td>0.084685</td>\n",
       "      <td>0.264318</td>\n",
       "      <td>0.007208</td>\n",
       "      <td>0.493437</td>\n",
       "      <td>0.007853</td>\n",
       "      <td>0.014745</td>\n",
       "      <td>0.007214</td>\n",
       "      <td>0.081422</td>\n",
       "      <td>0.101393</td>\n",
       "      <td>0.213382</td>\n",
       "    </tr>\n",
       "  </tbody>\n",
       "</table>\n",
       "<p>642 rows × 2000 columns</p>\n",
       "</div>"
      ],
      "text/plain": [
       "                  Sntg1     Snhg6     Ncoa2    Sbspon     Ube2w      Mcm3  \\\n",
       "AAACCTGGTAAGTGGC    0.0  0.331317  0.043057  0.008682  0.000000  0.082468   \n",
       "AAACGGGGTGAAATCA    0.0  0.385928  0.035375  0.008682  0.007630  0.150678   \n",
       "AAACGGGTCAAACAAG    0.0  0.450880  0.035102  0.007535  0.011573  0.198715   \n",
       "AAATGCCCACATCTTT    0.0  0.424607  0.040797  0.007535  0.004444  0.261542   \n",
       "AAATGCCCACCAACCG    0.0  0.445172  0.033654  0.000000  0.007630  0.105157   \n",
       "...                 ...       ...       ...       ...       ...       ...   \n",
       "TTTATGCAGCGTCTAT    0.0  0.493896  0.043522  0.042269  0.000000  0.189344   \n",
       "TTTGCGCTCACTTACT    0.0  0.471445  0.026901  0.015015  0.011573  0.227360   \n",
       "TTTGGTTCACGAAGCA    0.0  0.470040  0.007981  0.006673  0.000000  0.262745   \n",
       "TTTGGTTTCACTTACT    0.0  0.485508  0.028303  0.071193  0.000000  0.282718   \n",
       "TTTGTCAAGTGTGGCA    0.0  0.436644  0.053208  0.008549  0.000000  0.308600   \n",
       "\n",
       "                   Fam135a    Adgrb3   Tmem131    Tbc1d8  ...   Sh3kbp1  \\\n",
       "AAACCTGGTAAGTGGC  0.240271  0.057021  0.067412  0.091982  ...  0.082975   \n",
       "AAACGGGGTGAAATCA  0.222513  0.026083  0.088173  0.160246  ...  0.150213   \n",
       "AAACGGGTCAAACAAG  0.386362  0.006806  0.093229  0.154616  ...  0.026738   \n",
       "AAATGCCCACATCTTT  0.284179  0.000000  0.100554  0.131965  ...  0.013209   \n",
       "AAATGCCCACCAACCG  0.261211  0.054139  0.056974  0.199251  ...  0.124835   \n",
       "...                    ...       ...       ...       ...  ...       ...   \n",
       "TTTATGCAGCGTCTAT  0.353881  0.000000  0.077320  0.041018  ...  0.007831   \n",
       "TTTGCGCTCACTTACT  0.358488  0.000000  0.109150  0.142924  ...  0.017860   \n",
       "TTTGGTTCACGAAGCA  0.240832  0.020747  0.118141  0.233242  ...  0.090943   \n",
       "TTTGGTTTCACTTACT  0.269129  0.000000  0.116147  0.032099  ...  0.006683   \n",
       "TTTGTCAAGTGTGGCA  0.250402  0.037714  0.095618  0.206455  ...  0.084685   \n",
       "\n",
       "                   Map3k15      Rai2     Rbbp7     Ap1s2    Tmem27       Uty  \\\n",
       "AAACCTGGTAAGTGGC  0.388444  0.000000  0.524009  0.000000  0.008481  0.017866   \n",
       "AAACGGGGTGAAATCA  0.402316  0.000000  0.486399  0.043597  0.016383  0.034936   \n",
       "AAACGGGTCAAACAAG  0.196244  0.000000  0.501988  0.008878  0.030245  0.004476   \n",
       "AAATGCCCACATCTTT  0.118344  0.000000  0.657292  0.000000  0.019998  0.011014   \n",
       "AAATGCCCACCAACCG  0.371030  0.000000  0.405398  0.007404  0.000000  0.007793   \n",
       "...                    ...       ...       ...       ...       ...       ...   \n",
       "TTTATGCAGCGTCTAT  0.052959  0.000000  0.799565  0.000000  0.042605  0.000000   \n",
       "TTTGCGCTCACTTACT  0.145426  0.000000  0.656682  0.000000  0.035931  0.004476   \n",
       "TTTGGTTCACGAAGCA  0.293970  0.000000  0.350902  0.023238  0.014647  0.030347   \n",
       "TTTGGTTTCACTTACT  0.030014  0.000000  0.939759  0.000000  0.060248  0.021189   \n",
       "TTTGTCAAGTGTGGCA  0.264318  0.007208  0.493437  0.007853  0.014745  0.007214   \n",
       "\n",
       "                     Ddx3y   Eif2s3y     Erdr1  \n",
       "AAACCTGGTAAGTGGC  0.081195  0.162490  0.260789  \n",
       "AAACGGGGTGAAATCA  0.214120  0.187825  0.338125  \n",
       "AAACGGGTCAAACAAG  0.064922  0.067473  0.151591  \n",
       "AAATGCCCACATCTTT  0.127707  0.136032  0.242412  \n",
       "AAATGCCCACCAACCG  0.184873  0.236252  0.249578  \n",
       "...                    ...       ...       ...  \n",
       "TTTATGCAGCGTCTAT  0.032083  0.095407  0.188794  \n",
       "TTTGCGCTCACTTACT  0.084535  0.072119  0.199921  \n",
       "TTTGGTTCACGAAGCA  0.182909  0.254784  0.229431  \n",
       "TTTGGTTTCACTTACT  0.087583  0.163748  0.218731  \n",
       "TTTGTCAAGTGTGGCA  0.081422  0.101393  0.213382  \n",
       "\n",
       "[642 rows x 2000 columns]"
      ]
     },
     "execution_count": 54,
     "metadata": {},
     "output_type": "execute_result"
    }
   ],
   "source": [
    "gem_"
   ]
  },
  {
   "cell_type": "code",
   "execution_count": 28,
   "metadata": {},
   "outputs": [
    {
     "data": {
      "text/plain": [
       "(642, 2000)"
      ]
     },
     "execution_count": 28,
     "metadata": {},
     "output_type": "execute_result"
    }
   ],
   "source": [
    "gem_.shape"
   ]
  },
  {
   "cell_type": "code",
   "execution_count": 29,
   "metadata": {},
   "outputs": [],
   "source": [
    "tn_ = Net(gene_expression_matrix=gem_, gem_standerdized=gem_std, TFinfo_dic=oracle.TFdict, verbose=False)"
   ]
  },
  {
   "cell_type": "code",
   "execution_count": 30,
   "metadata": {},
   "outputs": [
    {
     "data": {
      "application/vnd.jupyter.widget-view+json": {
       "model_id": "7060639b2470444cb3c325f80e1d7d4e",
       "version_major": 2,
       "version_minor": 0
      },
      "text/plain": [
       "  0%|          | 0/1857 [00:00<?, ?it/s]"
      ]
     },
     "metadata": {},
     "output_type": "display_data"
    }
   ],
   "source": [
    "tn_.fit_All_genes(bagging_number=20, alpha=10, verbose=1)"
   ]
  },
  {
   "cell_type": "markdown",
   "metadata": {},
   "source": [
    "Lets see what this fit_All_genes function does step by step"
   ]
  },
  {
   "cell_type": "code",
   "execution_count": 31,
   "metadata": {},
   "outputs": [],
   "source": [
    "target_genes = tn_.all_genes"
   ]
  },
  {
   "cell_type": "code",
   "execution_count": 45,
   "metadata": {},
   "outputs": [
    {
     "data": {
      "application/vnd.jupyter.widget-view+json": {
       "model_id": "f7940a3653274bcfbda1c83a96667ea9",
       "version_major": 2,
       "version_minor": 0
      },
      "text/plain": [
       "  0%|          | 0/177 [00:00<?, ?it/s]"
      ]
     },
     "metadata": {},
     "output_type": "display_data"
    }
   ],
   "source": [
    "#the function above is equivalent to this function \n",
    "#tn_.fit_genes(target_genes=target_genes, bagging_number=20, alpha=10, verbose=1)"
   ]
  },
  {
   "cell_type": "code",
   "execution_count": 32,
   "metadata": {},
   "outputs": [],
   "source": [
    "#what does fit genes does step by step\n",
    "genes = np.array(list(set(target_genes).intersection(tn_.TFdict.keys()))) # these are the transcription factors\n",
    "genes = np.array(list(set(genes).intersection(tn_.all_genes))) #same, I do not know why is repeated"
   ]
  },
  {
   "cell_type": "code",
   "execution_count": 33,
   "metadata": {},
   "outputs": [],
   "source": [
    "N = len(genes)\n",
    "log_step = 10"
   ]
  },
  {
   "cell_type": "code",
   "execution_count": 34,
   "metadata": {},
   "outputs": [],
   "source": [
    "from celloracle.network.regression_models import get_bagging_ridge_coefs as _get_bagging_ridge_coefs"
   ]
  },
  {
   "cell_type": "code",
   "execution_count": 35,
   "metadata": {},
   "outputs": [],
   "source": [
    "coefs_Ngn3 = _get_bagging_ridge_coefs(target_gene=\"Neurog3\",\n",
    "                                                     gem=gem_,\n",
    "                                                     gem_scaled=gem_std,\n",
    "                                                     TFdict=oracle.TFdict,\n",
    "                                                     cellstate=None,\n",
    "                                                     bagging_number=20,\n",
    "                                                     scaling=True,\n",
    "                                                     alpha=10,\n",
    "                                                     solver=\"auto\")"
   ]
  },
  {
   "cell_type": "code",
   "execution_count": 36,
   "metadata": {},
   "outputs": [],
   "source": [
    "reggenes = oracle.TFdict[\"Neurog3\"]\n",
    "allgenes_detected = list(gem_.columns)\n",
    "reggenes = list(set(reggenes).intersection(allgenes_detected))\n",
    "reggenes.remove(\"Neurog3\")"
   ]
  },
  {
   "cell_type": "code",
   "execution_count": 37,
   "metadata": {},
   "outputs": [],
   "source": [
    "reg_all = reggenes.copy()"
   ]
  },
  {
   "cell_type": "code",
   "execution_count": 39,
   "metadata": {},
   "outputs": [
    {
     "data": {
      "text/plain": [
       "88"
      ]
     },
     "execution_count": 39,
     "metadata": {},
     "output_type": "execute_result"
    }
   ],
   "source": [
    "len(reggenes) #88 transcription factors influence Neurog3 including itself"
   ]
  },
  {
   "cell_type": "code",
   "execution_count": 40,
   "metadata": {},
   "outputs": [],
   "source": [
    "data = gem_std[reg_all]\n",
    "label = gem_[\"Neurog3\"]"
   ]
  },
  {
   "cell_type": "code",
   "execution_count": 41,
   "metadata": {},
   "outputs": [],
   "source": [
    "from sklearn.ensemble import BaggingRegressor\n",
    "from sklearn.linear_model import Ridge, BayesianRidge"
   ]
  },
  {
   "cell_type": "markdown",
   "metadata": {},
   "source": [
    "A Bagging regressor.\n",
    "\n",
    "A Bagging regressor is an ensemble meta-estimator that fits base regressors each on random subsets of the original dataset and then aggregate their individual predictions (either by voting or by averaging) to form a final prediction. Such a meta-estimator can typically be used as a way to reduce the variance of a black-box estimator (e.g., a decision tree), by introducing randomization into its construction procedure and then making an ensemble out of it.\n",
    "\n",
    "This algorithm encompasses several works from the literature. When random subsets of the dataset are drawn as random subsets of the samples, then this algorithm is known as Pasting [1]. If samples are drawn with replacement, then the method is known as Bagging [2]. When random subsets of the dataset are drawn as random subsets of the features, then the method is known as Random Subspaces [3]. Finally, when base estimators are built on subsets of both samples and features, then the method is known as Random Patches [4].\n",
    "\n"
   ]
  },
  {
   "cell_type": "code",
   "execution_count": 42,
   "metadata": {},
   "outputs": [],
   "source": [
    " model = BaggingRegressor(base_estimator=Ridge(alpha=10, \n",
    "                                               solver=\"auto\", \n",
    "                                               random_state=123),\n",
    "                          n_estimators=20, #20 samples\n",
    "                          bootstrap=True, #samples with replacement\n",
    "                          max_features=0.8, #number of features to draw from X \n",
    "                                            #to train each base estimator \n",
    "                                            #(without replacement)\n",
    "                          n_jobs=16,\n",
    "                          verbose=False,\n",
    "                          random_state=123)"
   ]
  },
  {
   "cell_type": "code",
   "execution_count": 43,
   "metadata": {},
   "outputs": [
    {
     "data": {
      "text/plain": [
       "BaggingRegressor(base_estimator=Ridge(alpha=10, random_state=123),\n",
       "                 max_features=0.8, n_estimators=20, n_jobs=16, random_state=123,\n",
       "                 verbose=False)"
      ]
     },
     "execution_count": 43,
     "metadata": {},
     "output_type": "execute_result"
    }
   ],
   "source": [
    "model.fit(data, label)"
   ]
  },
  {
   "cell_type": "code",
   "execution_count": 56,
   "metadata": {},
   "outputs": [
    {
     "data": {
      "text/html": [
       "<div>\n",
       "<style scoped>\n",
       "    .dataframe tbody tr th:only-of-type {\n",
       "        vertical-align: middle;\n",
       "    }\n",
       "\n",
       "    .dataframe tbody tr th {\n",
       "        vertical-align: top;\n",
       "    }\n",
       "\n",
       "    .dataframe thead th {\n",
       "        text-align: right;\n",
       "    }\n",
       "</style>\n",
       "<table border=\"1\" class=\"dataframe\">\n",
       "  <thead>\n",
       "    <tr style=\"text-align: right;\">\n",
       "      <th></th>\n",
       "      <th>Foxn3</th>\n",
       "      <th>Ebf1</th>\n",
       "      <th>Nkx2-2</th>\n",
       "      <th>Egr1</th>\n",
       "      <th>Nr1h4</th>\n",
       "      <th>Nr4a1</th>\n",
       "      <th>Ovol2</th>\n",
       "      <th>Pax6</th>\n",
       "      <th>Zfp148</th>\n",
       "      <th>Rest</th>\n",
       "      <th>...</th>\n",
       "      <th>Mxd4</th>\n",
       "      <th>Hbp1</th>\n",
       "      <th>Fos</th>\n",
       "      <th>Atf6</th>\n",
       "      <th>Zscan26</th>\n",
       "      <th>Creb1</th>\n",
       "      <th>Meis2</th>\n",
       "      <th>Arx</th>\n",
       "      <th>Tfcp2</th>\n",
       "      <th>Hes1</th>\n",
       "    </tr>\n",
       "  </thead>\n",
       "  <tbody>\n",
       "    <tr>\n",
       "      <th>0</th>\n",
       "      <td>NaN</td>\n",
       "      <td>NaN</td>\n",
       "      <td>0.016039</td>\n",
       "      <td>0.010742</td>\n",
       "      <td>NaN</td>\n",
       "      <td>-0.029797</td>\n",
       "      <td>0.033227</td>\n",
       "      <td>-0.002692</td>\n",
       "      <td>-0.069203</td>\n",
       "      <td>-0.091184</td>\n",
       "      <td>...</td>\n",
       "      <td>-0.042809</td>\n",
       "      <td>NaN</td>\n",
       "      <td>-0.113793</td>\n",
       "      <td>NaN</td>\n",
       "      <td>-0.005672</td>\n",
       "      <td>0.026325</td>\n",
       "      <td>NaN</td>\n",
       "      <td>-0.016033</td>\n",
       "      <td>0.000473</td>\n",
       "      <td>NaN</td>\n",
       "    </tr>\n",
       "    <tr>\n",
       "      <th>1</th>\n",
       "      <td>NaN</td>\n",
       "      <td>0.000634</td>\n",
       "      <td>0.024862</td>\n",
       "      <td>0.008251</td>\n",
       "      <td>-0.025029</td>\n",
       "      <td>NaN</td>\n",
       "      <td>NaN</td>\n",
       "      <td>-0.005806</td>\n",
       "      <td>-0.036893</td>\n",
       "      <td>-0.068545</td>\n",
       "      <td>...</td>\n",
       "      <td>-0.021852</td>\n",
       "      <td>NaN</td>\n",
       "      <td>-0.071289</td>\n",
       "      <td>NaN</td>\n",
       "      <td>0.002541</td>\n",
       "      <td>NaN</td>\n",
       "      <td>-0.076527</td>\n",
       "      <td>NaN</td>\n",
       "      <td>0.004722</td>\n",
       "      <td>-0.101850</td>\n",
       "    </tr>\n",
       "    <tr>\n",
       "      <th>2</th>\n",
       "      <td>-0.018825</td>\n",
       "      <td>-0.002490</td>\n",
       "      <td>0.026973</td>\n",
       "      <td>0.030244</td>\n",
       "      <td>-0.039954</td>\n",
       "      <td>NaN</td>\n",
       "      <td>NaN</td>\n",
       "      <td>NaN</td>\n",
       "      <td>-0.046365</td>\n",
       "      <td>NaN</td>\n",
       "      <td>...</td>\n",
       "      <td>-0.034238</td>\n",
       "      <td>0.029513</td>\n",
       "      <td>-0.097172</td>\n",
       "      <td>-0.021858</td>\n",
       "      <td>0.007983</td>\n",
       "      <td>0.004410</td>\n",
       "      <td>-0.081568</td>\n",
       "      <td>-0.029611</td>\n",
       "      <td>0.003406</td>\n",
       "      <td>-0.106087</td>\n",
       "    </tr>\n",
       "    <tr>\n",
       "      <th>3</th>\n",
       "      <td>NaN</td>\n",
       "      <td>-0.014545</td>\n",
       "      <td>0.024485</td>\n",
       "      <td>0.009312</td>\n",
       "      <td>-0.022965</td>\n",
       "      <td>-0.018029</td>\n",
       "      <td>0.042661</td>\n",
       "      <td>0.008073</td>\n",
       "      <td>-0.017753</td>\n",
       "      <td>-0.086110</td>\n",
       "      <td>...</td>\n",
       "      <td>-0.026993</td>\n",
       "      <td>0.011044</td>\n",
       "      <td>-0.091217</td>\n",
       "      <td>-0.021500</td>\n",
       "      <td>0.004807</td>\n",
       "      <td>NaN</td>\n",
       "      <td>-0.101535</td>\n",
       "      <td>-0.037906</td>\n",
       "      <td>-0.001943</td>\n",
       "      <td>-0.106709</td>\n",
       "    </tr>\n",
       "    <tr>\n",
       "      <th>4</th>\n",
       "      <td>-0.001494</td>\n",
       "      <td>NaN</td>\n",
       "      <td>0.024035</td>\n",
       "      <td>0.020931</td>\n",
       "      <td>-0.029523</td>\n",
       "      <td>-0.028542</td>\n",
       "      <td>0.031843</td>\n",
       "      <td>-0.000547</td>\n",
       "      <td>-0.048274</td>\n",
       "      <td>-0.071087</td>\n",
       "      <td>...</td>\n",
       "      <td>-0.064374</td>\n",
       "      <td>NaN</td>\n",
       "      <td>-0.092609</td>\n",
       "      <td>-0.025794</td>\n",
       "      <td>-0.004844</td>\n",
       "      <td>0.008099</td>\n",
       "      <td>-0.097859</td>\n",
       "      <td>-0.034951</td>\n",
       "      <td>0.009057</td>\n",
       "      <td>NaN</td>\n",
       "    </tr>\n",
       "    <tr>\n",
       "      <th>5</th>\n",
       "      <td>-0.006224</td>\n",
       "      <td>NaN</td>\n",
       "      <td>0.022150</td>\n",
       "      <td>0.011308</td>\n",
       "      <td>-0.026495</td>\n",
       "      <td>-0.020418</td>\n",
       "      <td>NaN</td>\n",
       "      <td>-0.015201</td>\n",
       "      <td>-0.031312</td>\n",
       "      <td>-0.065332</td>\n",
       "      <td>...</td>\n",
       "      <td>-0.052667</td>\n",
       "      <td>NaN</td>\n",
       "      <td>-0.097700</td>\n",
       "      <td>-0.025727</td>\n",
       "      <td>0.000325</td>\n",
       "      <td>0.022677</td>\n",
       "      <td>-0.108043</td>\n",
       "      <td>-0.022162</td>\n",
       "      <td>0.008194</td>\n",
       "      <td>-0.099644</td>\n",
       "    </tr>\n",
       "    <tr>\n",
       "      <th>6</th>\n",
       "      <td>-0.005896</td>\n",
       "      <td>0.027094</td>\n",
       "      <td>0.025774</td>\n",
       "      <td>0.009592</td>\n",
       "      <td>NaN</td>\n",
       "      <td>NaN</td>\n",
       "      <td>0.031082</td>\n",
       "      <td>0.002751</td>\n",
       "      <td>-0.045492</td>\n",
       "      <td>-0.084963</td>\n",
       "      <td>...</td>\n",
       "      <td>-0.052013</td>\n",
       "      <td>0.013532</td>\n",
       "      <td>-0.106133</td>\n",
       "      <td>-0.028312</td>\n",
       "      <td>0.003977</td>\n",
       "      <td>0.022505</td>\n",
       "      <td>-0.100220</td>\n",
       "      <td>-0.028160</td>\n",
       "      <td>-0.001343</td>\n",
       "      <td>-0.086311</td>\n",
       "    </tr>\n",
       "    <tr>\n",
       "      <th>7</th>\n",
       "      <td>0.003447</td>\n",
       "      <td>NaN</td>\n",
       "      <td>0.021112</td>\n",
       "      <td>-0.019889</td>\n",
       "      <td>-0.024697</td>\n",
       "      <td>-0.054699</td>\n",
       "      <td>0.079645</td>\n",
       "      <td>0.030452</td>\n",
       "      <td>-0.026224</td>\n",
       "      <td>-0.111263</td>\n",
       "      <td>...</td>\n",
       "      <td>NaN</td>\n",
       "      <td>0.013845</td>\n",
       "      <td>NaN</td>\n",
       "      <td>0.003912</td>\n",
       "      <td>-0.008606</td>\n",
       "      <td>0.012494</td>\n",
       "      <td>-0.136660</td>\n",
       "      <td>-0.041516</td>\n",
       "      <td>NaN</td>\n",
       "      <td>-0.108322</td>\n",
       "    </tr>\n",
       "    <tr>\n",
       "      <th>8</th>\n",
       "      <td>NaN</td>\n",
       "      <td>-0.002007</td>\n",
       "      <td>0.028321</td>\n",
       "      <td>0.014238</td>\n",
       "      <td>-0.022852</td>\n",
       "      <td>-0.028255</td>\n",
       "      <td>0.028369</td>\n",
       "      <td>0.013762</td>\n",
       "      <td>-0.077686</td>\n",
       "      <td>NaN</td>\n",
       "      <td>...</td>\n",
       "      <td>-0.040733</td>\n",
       "      <td>0.002076</td>\n",
       "      <td>-0.112825</td>\n",
       "      <td>-0.045461</td>\n",
       "      <td>0.003422</td>\n",
       "      <td>0.022759</td>\n",
       "      <td>-0.111331</td>\n",
       "      <td>-0.031774</td>\n",
       "      <td>-0.000681</td>\n",
       "      <td>-0.087725</td>\n",
       "    </tr>\n",
       "    <tr>\n",
       "      <th>9</th>\n",
       "      <td>-0.018331</td>\n",
       "      <td>0.000840</td>\n",
       "      <td>0.048119</td>\n",
       "      <td>0.012233</td>\n",
       "      <td>-0.027176</td>\n",
       "      <td>-0.032547</td>\n",
       "      <td>0.048951</td>\n",
       "      <td>0.007225</td>\n",
       "      <td>-0.050552</td>\n",
       "      <td>-0.082492</td>\n",
       "      <td>...</td>\n",
       "      <td>NaN</td>\n",
       "      <td>-0.007871</td>\n",
       "      <td>-0.083422</td>\n",
       "      <td>-0.032098</td>\n",
       "      <td>0.011091</td>\n",
       "      <td>0.021508</td>\n",
       "      <td>-0.092156</td>\n",
       "      <td>NaN</td>\n",
       "      <td>NaN</td>\n",
       "      <td>NaN</td>\n",
       "    </tr>\n",
       "    <tr>\n",
       "      <th>10</th>\n",
       "      <td>-0.015923</td>\n",
       "      <td>-0.013116</td>\n",
       "      <td>0.035105</td>\n",
       "      <td>0.018792</td>\n",
       "      <td>-0.016078</td>\n",
       "      <td>-0.045748</td>\n",
       "      <td>0.047766</td>\n",
       "      <td>NaN</td>\n",
       "      <td>-0.033614</td>\n",
       "      <td>-0.072597</td>\n",
       "      <td>...</td>\n",
       "      <td>-0.038678</td>\n",
       "      <td>0.019179</td>\n",
       "      <td>-0.109128</td>\n",
       "      <td>NaN</td>\n",
       "      <td>0.001335</td>\n",
       "      <td>0.011596</td>\n",
       "      <td>-0.092256</td>\n",
       "      <td>NaN</td>\n",
       "      <td>0.003128</td>\n",
       "      <td>-0.111986</td>\n",
       "    </tr>\n",
       "    <tr>\n",
       "      <th>11</th>\n",
       "      <td>0.003005</td>\n",
       "      <td>0.010669</td>\n",
       "      <td>0.025838</td>\n",
       "      <td>NaN</td>\n",
       "      <td>NaN</td>\n",
       "      <td>-0.054356</td>\n",
       "      <td>NaN</td>\n",
       "      <td>NaN</td>\n",
       "      <td>-0.051686</td>\n",
       "      <td>NaN</td>\n",
       "      <td>...</td>\n",
       "      <td>-0.037445</td>\n",
       "      <td>0.014340</td>\n",
       "      <td>-0.088374</td>\n",
       "      <td>-0.011315</td>\n",
       "      <td>0.007177</td>\n",
       "      <td>0.020034</td>\n",
       "      <td>-0.095196</td>\n",
       "      <td>-0.028376</td>\n",
       "      <td>0.003960</td>\n",
       "      <td>NaN</td>\n",
       "    </tr>\n",
       "    <tr>\n",
       "      <th>12</th>\n",
       "      <td>-0.011329</td>\n",
       "      <td>-0.007647</td>\n",
       "      <td>NaN</td>\n",
       "      <td>-0.030198</td>\n",
       "      <td>NaN</td>\n",
       "      <td>-0.077403</td>\n",
       "      <td>0.050748</td>\n",
       "      <td>0.000860</td>\n",
       "      <td>-0.022528</td>\n",
       "      <td>-0.098801</td>\n",
       "      <td>...</td>\n",
       "      <td>-0.062323</td>\n",
       "      <td>NaN</td>\n",
       "      <td>NaN</td>\n",
       "      <td>NaN</td>\n",
       "      <td>-0.001481</td>\n",
       "      <td>0.020742</td>\n",
       "      <td>NaN</td>\n",
       "      <td>-0.025209</td>\n",
       "      <td>-0.004890</td>\n",
       "      <td>NaN</td>\n",
       "    </tr>\n",
       "    <tr>\n",
       "      <th>13</th>\n",
       "      <td>0.001644</td>\n",
       "      <td>-0.000718</td>\n",
       "      <td>0.028423</td>\n",
       "      <td>0.020211</td>\n",
       "      <td>NaN</td>\n",
       "      <td>-0.042349</td>\n",
       "      <td>0.014316</td>\n",
       "      <td>-0.001410</td>\n",
       "      <td>-0.041021</td>\n",
       "      <td>NaN</td>\n",
       "      <td>...</td>\n",
       "      <td>-0.057518</td>\n",
       "      <td>0.015166</td>\n",
       "      <td>-0.103650</td>\n",
       "      <td>-0.017519</td>\n",
       "      <td>-0.005451</td>\n",
       "      <td>0.020308</td>\n",
       "      <td>-0.102712</td>\n",
       "      <td>NaN</td>\n",
       "      <td>0.009688</td>\n",
       "      <td>-0.089445</td>\n",
       "    </tr>\n",
       "    <tr>\n",
       "      <th>14</th>\n",
       "      <td>-0.019148</td>\n",
       "      <td>-0.011862</td>\n",
       "      <td>NaN</td>\n",
       "      <td>0.042477</td>\n",
       "      <td>-0.022740</td>\n",
       "      <td>-0.042752</td>\n",
       "      <td>NaN</td>\n",
       "      <td>0.013234</td>\n",
       "      <td>-0.043448</td>\n",
       "      <td>NaN</td>\n",
       "      <td>...</td>\n",
       "      <td>-0.074450</td>\n",
       "      <td>0.029735</td>\n",
       "      <td>-0.127575</td>\n",
       "      <td>-0.008552</td>\n",
       "      <td>NaN</td>\n",
       "      <td>0.028741</td>\n",
       "      <td>-0.133240</td>\n",
       "      <td>NaN</td>\n",
       "      <td>NaN</td>\n",
       "      <td>-0.126150</td>\n",
       "    </tr>\n",
       "    <tr>\n",
       "      <th>15</th>\n",
       "      <td>-0.015311</td>\n",
       "      <td>0.015378</td>\n",
       "      <td>0.031615</td>\n",
       "      <td>0.020257</td>\n",
       "      <td>-0.038212</td>\n",
       "      <td>-0.057255</td>\n",
       "      <td>0.035381</td>\n",
       "      <td>-0.001624</td>\n",
       "      <td>-0.055556</td>\n",
       "      <td>-0.088380</td>\n",
       "      <td>...</td>\n",
       "      <td>-0.039226</td>\n",
       "      <td>NaN</td>\n",
       "      <td>-0.090807</td>\n",
       "      <td>-0.011812</td>\n",
       "      <td>0.013208</td>\n",
       "      <td>0.020114</td>\n",
       "      <td>-0.082503</td>\n",
       "      <td>-0.012581</td>\n",
       "      <td>0.003424</td>\n",
       "      <td>-0.099138</td>\n",
       "    </tr>\n",
       "    <tr>\n",
       "      <th>16</th>\n",
       "      <td>-0.005518</td>\n",
       "      <td>-0.004025</td>\n",
       "      <td>0.013008</td>\n",
       "      <td>-0.029803</td>\n",
       "      <td>-0.030016</td>\n",
       "      <td>NaN</td>\n",
       "      <td>0.028727</td>\n",
       "      <td>-0.001741</td>\n",
       "      <td>-0.051299</td>\n",
       "      <td>-0.069118</td>\n",
       "      <td>...</td>\n",
       "      <td>-0.032339</td>\n",
       "      <td>0.025053</td>\n",
       "      <td>NaN</td>\n",
       "      <td>NaN</td>\n",
       "      <td>-0.004220</td>\n",
       "      <td>0.007723</td>\n",
       "      <td>-0.121488</td>\n",
       "      <td>-0.040229</td>\n",
       "      <td>0.009663</td>\n",
       "      <td>NaN</td>\n",
       "    </tr>\n",
       "    <tr>\n",
       "      <th>17</th>\n",
       "      <td>-0.003999</td>\n",
       "      <td>0.014724</td>\n",
       "      <td>0.048840</td>\n",
       "      <td>NaN</td>\n",
       "      <td>-0.027754</td>\n",
       "      <td>-0.055935</td>\n",
       "      <td>0.033168</td>\n",
       "      <td>-0.023776</td>\n",
       "      <td>-0.027178</td>\n",
       "      <td>-0.092423</td>\n",
       "      <td>...</td>\n",
       "      <td>-0.060755</td>\n",
       "      <td>NaN</td>\n",
       "      <td>-0.063702</td>\n",
       "      <td>-0.035174</td>\n",
       "      <td>0.003298</td>\n",
       "      <td>0.021741</td>\n",
       "      <td>-0.099053</td>\n",
       "      <td>-0.035187</td>\n",
       "      <td>0.013209</td>\n",
       "      <td>-0.110988</td>\n",
       "    </tr>\n",
       "    <tr>\n",
       "      <th>18</th>\n",
       "      <td>NaN</td>\n",
       "      <td>NaN</td>\n",
       "      <td>0.011737</td>\n",
       "      <td>0.015055</td>\n",
       "      <td>NaN</td>\n",
       "      <td>-0.026554</td>\n",
       "      <td>0.022734</td>\n",
       "      <td>0.004002</td>\n",
       "      <td>-0.043345</td>\n",
       "      <td>-0.073343</td>\n",
       "      <td>...</td>\n",
       "      <td>NaN</td>\n",
       "      <td>0.029121</td>\n",
       "      <td>-0.079851</td>\n",
       "      <td>-0.015386</td>\n",
       "      <td>-0.000583</td>\n",
       "      <td>NaN</td>\n",
       "      <td>-0.100117</td>\n",
       "      <td>-0.028773</td>\n",
       "      <td>-0.004303</td>\n",
       "      <td>NaN</td>\n",
       "    </tr>\n",
       "    <tr>\n",
       "      <th>19</th>\n",
       "      <td>-0.000578</td>\n",
       "      <td>-0.006633</td>\n",
       "      <td>0.006703</td>\n",
       "      <td>0.017675</td>\n",
       "      <td>NaN</td>\n",
       "      <td>-0.028316</td>\n",
       "      <td>NaN</td>\n",
       "      <td>0.022904</td>\n",
       "      <td>-0.055191</td>\n",
       "      <td>-0.057932</td>\n",
       "      <td>...</td>\n",
       "      <td>-0.054365</td>\n",
       "      <td>0.013275</td>\n",
       "      <td>-0.064971</td>\n",
       "      <td>-0.027834</td>\n",
       "      <td>0.006033</td>\n",
       "      <td>NaN</td>\n",
       "      <td>-0.096549</td>\n",
       "      <td>-0.036984</td>\n",
       "      <td>0.005654</td>\n",
       "      <td>-0.072463</td>\n",
       "    </tr>\n",
       "  </tbody>\n",
       "</table>\n",
       "<p>20 rows × 88 columns</p>\n",
       "</div>"
      ],
      "text/plain": [
       "       Foxn3      Ebf1    Nkx2-2      Egr1     Nr1h4     Nr4a1     Ovol2  \\\n",
       "0        NaN       NaN  0.016039  0.010742       NaN -0.029797  0.033227   \n",
       "1        NaN  0.000634  0.024862  0.008251 -0.025029       NaN       NaN   \n",
       "2  -0.018825 -0.002490  0.026973  0.030244 -0.039954       NaN       NaN   \n",
       "3        NaN -0.014545  0.024485  0.009312 -0.022965 -0.018029  0.042661   \n",
       "4  -0.001494       NaN  0.024035  0.020931 -0.029523 -0.028542  0.031843   \n",
       "5  -0.006224       NaN  0.022150  0.011308 -0.026495 -0.020418       NaN   \n",
       "6  -0.005896  0.027094  0.025774  0.009592       NaN       NaN  0.031082   \n",
       "7   0.003447       NaN  0.021112 -0.019889 -0.024697 -0.054699  0.079645   \n",
       "8        NaN -0.002007  0.028321  0.014238 -0.022852 -0.028255  0.028369   \n",
       "9  -0.018331  0.000840  0.048119  0.012233 -0.027176 -0.032547  0.048951   \n",
       "10 -0.015923 -0.013116  0.035105  0.018792 -0.016078 -0.045748  0.047766   \n",
       "11  0.003005  0.010669  0.025838       NaN       NaN -0.054356       NaN   \n",
       "12 -0.011329 -0.007647       NaN -0.030198       NaN -0.077403  0.050748   \n",
       "13  0.001644 -0.000718  0.028423  0.020211       NaN -0.042349  0.014316   \n",
       "14 -0.019148 -0.011862       NaN  0.042477 -0.022740 -0.042752       NaN   \n",
       "15 -0.015311  0.015378  0.031615  0.020257 -0.038212 -0.057255  0.035381   \n",
       "16 -0.005518 -0.004025  0.013008 -0.029803 -0.030016       NaN  0.028727   \n",
       "17 -0.003999  0.014724  0.048840       NaN -0.027754 -0.055935  0.033168   \n",
       "18       NaN       NaN  0.011737  0.015055       NaN -0.026554  0.022734   \n",
       "19 -0.000578 -0.006633  0.006703  0.017675       NaN -0.028316       NaN   \n",
       "\n",
       "        Pax6    Zfp148      Rest  ...      Mxd4      Hbp1       Fos      Atf6  \\\n",
       "0  -0.002692 -0.069203 -0.091184  ... -0.042809       NaN -0.113793       NaN   \n",
       "1  -0.005806 -0.036893 -0.068545  ... -0.021852       NaN -0.071289       NaN   \n",
       "2        NaN -0.046365       NaN  ... -0.034238  0.029513 -0.097172 -0.021858   \n",
       "3   0.008073 -0.017753 -0.086110  ... -0.026993  0.011044 -0.091217 -0.021500   \n",
       "4  -0.000547 -0.048274 -0.071087  ... -0.064374       NaN -0.092609 -0.025794   \n",
       "5  -0.015201 -0.031312 -0.065332  ... -0.052667       NaN -0.097700 -0.025727   \n",
       "6   0.002751 -0.045492 -0.084963  ... -0.052013  0.013532 -0.106133 -0.028312   \n",
       "7   0.030452 -0.026224 -0.111263  ...       NaN  0.013845       NaN  0.003912   \n",
       "8   0.013762 -0.077686       NaN  ... -0.040733  0.002076 -0.112825 -0.045461   \n",
       "9   0.007225 -0.050552 -0.082492  ...       NaN -0.007871 -0.083422 -0.032098   \n",
       "10       NaN -0.033614 -0.072597  ... -0.038678  0.019179 -0.109128       NaN   \n",
       "11       NaN -0.051686       NaN  ... -0.037445  0.014340 -0.088374 -0.011315   \n",
       "12  0.000860 -0.022528 -0.098801  ... -0.062323       NaN       NaN       NaN   \n",
       "13 -0.001410 -0.041021       NaN  ... -0.057518  0.015166 -0.103650 -0.017519   \n",
       "14  0.013234 -0.043448       NaN  ... -0.074450  0.029735 -0.127575 -0.008552   \n",
       "15 -0.001624 -0.055556 -0.088380  ... -0.039226       NaN -0.090807 -0.011812   \n",
       "16 -0.001741 -0.051299 -0.069118  ... -0.032339  0.025053       NaN       NaN   \n",
       "17 -0.023776 -0.027178 -0.092423  ... -0.060755       NaN -0.063702 -0.035174   \n",
       "18  0.004002 -0.043345 -0.073343  ...       NaN  0.029121 -0.079851 -0.015386   \n",
       "19  0.022904 -0.055191 -0.057932  ... -0.054365  0.013275 -0.064971 -0.027834   \n",
       "\n",
       "     Zscan26     Creb1     Meis2       Arx     Tfcp2      Hes1  \n",
       "0  -0.005672  0.026325       NaN -0.016033  0.000473       NaN  \n",
       "1   0.002541       NaN -0.076527       NaN  0.004722 -0.101850  \n",
       "2   0.007983  0.004410 -0.081568 -0.029611  0.003406 -0.106087  \n",
       "3   0.004807       NaN -0.101535 -0.037906 -0.001943 -0.106709  \n",
       "4  -0.004844  0.008099 -0.097859 -0.034951  0.009057       NaN  \n",
       "5   0.000325  0.022677 -0.108043 -0.022162  0.008194 -0.099644  \n",
       "6   0.003977  0.022505 -0.100220 -0.028160 -0.001343 -0.086311  \n",
       "7  -0.008606  0.012494 -0.136660 -0.041516       NaN -0.108322  \n",
       "8   0.003422  0.022759 -0.111331 -0.031774 -0.000681 -0.087725  \n",
       "9   0.011091  0.021508 -0.092156       NaN       NaN       NaN  \n",
       "10  0.001335  0.011596 -0.092256       NaN  0.003128 -0.111986  \n",
       "11  0.007177  0.020034 -0.095196 -0.028376  0.003960       NaN  \n",
       "12 -0.001481  0.020742       NaN -0.025209 -0.004890       NaN  \n",
       "13 -0.005451  0.020308 -0.102712       NaN  0.009688 -0.089445  \n",
       "14       NaN  0.028741 -0.133240       NaN       NaN -0.126150  \n",
       "15  0.013208  0.020114 -0.082503 -0.012581  0.003424 -0.099138  \n",
       "16 -0.004220  0.007723 -0.121488 -0.040229  0.009663       NaN  \n",
       "17  0.003298  0.021741 -0.099053 -0.035187  0.013209 -0.110988  \n",
       "18 -0.000583       NaN -0.100117 -0.028773 -0.004303       NaN  \n",
       "19  0.006033       NaN -0.096549 -0.036984  0.005654 -0.072463  \n",
       "\n",
       "[20 rows x 88 columns]"
      ]
     },
     "execution_count": 56,
     "metadata": {},
     "output_type": "execute_result"
    }
   ],
   "source": [
    "#these are the coefficients at the end\n",
    "coefs_Ngn3"
   ]
  },
  {
   "cell_type": "code",
   "execution_count": 49,
   "metadata": {},
   "outputs": [
    {
     "data": {
      "text/plain": [
       "Foxn3    -0.007632\n",
       "Ebf1      0.000420\n",
       "Nkx2-2    0.025730\n",
       "Egr1      0.010079\n",
       "Nr1h4    -0.027192\n",
       "            ...   \n",
       "Creb1     0.018236\n",
       "Meis2    -0.101612\n",
       "Arx      -0.029963\n",
       "Tfcp2     0.003613\n",
       "Hes1     -0.100524\n",
       "Length: 88, dtype: float64"
      ]
     },
     "execution_count": 49,
     "metadata": {},
     "output_type": "execute_result"
    }
   ],
   "source": [
    "mean = coefs_Ngn3.mean()\n",
    "#p = df.apply(lambda x: ttest_1samp(x.dropna(), 0)[1])\n",
    "#neg_log_p = -np.log10(p.fillna(1))"
   ]
  },
  {
   "cell_type": "code",
   "execution_count": 51,
   "metadata": {},
   "outputs": [],
   "source": [
    "from scipy.stats import ttest_1samp"
   ]
  },
  {
   "cell_type": "code",
   "execution_count": 52,
   "metadata": {},
   "outputs": [],
   "source": [
    "p = coefs_Ngn3.apply(lambda x: ttest_1samp(x.dropna(), 0)[1])"
   ]
  },
  {
   "cell_type": "code",
   "execution_count": 53,
   "metadata": {},
   "outputs": [
    {
     "data": {
      "text/plain": [
       "Foxn3     2.919978e-03\n",
       "Ebf1      8.925073e-01\n",
       "Nkx2-2    1.551083e-08\n",
       "Egr1      3.711296e-02\n",
       "Nr1h4     2.981391e-09\n",
       "              ...     \n",
       "Creb1     3.493923e-08\n",
       "Meis2     2.516690e-15\n",
       "Arx       1.562724e-09\n",
       "Tfcp2     1.186741e-02\n",
       "Hes1      6.021185e-12\n",
       "Length: 88, dtype: float64"
      ]
     },
     "execution_count": 53,
     "metadata": {},
     "output_type": "execute_result"
    }
   ],
   "source": [
    "p"
   ]
  }
 ],
 "metadata": {
  "kernelspec": {
   "display_name": "Python 3",
   "language": "python",
   "name": "python3"
  },
  "language_info": {
   "codemirror_mode": {
    "name": "ipython",
    "version": 3
   },
   "file_extension": ".py",
   "mimetype": "text/x-python",
   "name": "python",
   "nbconvert_exporter": "python",
   "pygments_lexer": "ipython3",
   "version": "3.6.12"
  },
  "varInspector": {
   "cols": {
    "lenName": 16,
    "lenType": 16,
    "lenVar": 40
   },
   "kernels_config": {
    "python": {
     "delete_cmd_postfix": "",
     "delete_cmd_prefix": "del ",
     "library": "var_list.py",
     "varRefreshCmd": "print(var_dic_list())"
    },
    "r": {
     "delete_cmd_postfix": ") ",
     "delete_cmd_prefix": "rm(",
     "library": "var_list.r",
     "varRefreshCmd": "cat(var_dic_list()) "
    }
   },
   "types_to_exclude": [
    "module",
    "function",
    "builtin_function_or_method",
    "instance",
    "_Feature"
   ],
   "window_display": false
  }
 },
 "nbformat": 4,
 "nbformat_minor": 4
}

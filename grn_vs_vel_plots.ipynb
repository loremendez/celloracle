{
 "cells": [
  {
   "cell_type": "code",
   "execution_count": 1,
   "id": "first-connection",
   "metadata": {},
   "outputs": [],
   "source": [
    "import pandas as pd\n",
    "import numpy as np\n",
    "import seaborn as sns\n",
    "import matplotlib.pyplot as plt\n",
    "\n",
    "sns.set_style(\"whitegrid\")"
   ]
  },
  {
   "cell_type": "markdown",
   "id": "another-romania",
   "metadata": {},
   "source": [
    "# 1. Cluster Summary"
   ]
  },
  {
   "cell_type": "code",
   "execution_count": 2,
   "id": "earlier-public",
   "metadata": {},
   "outputs": [],
   "source": [
    "start = pd.read_csv('./grn_vs_velocity/start_df.csv', index_col=0)\n",
    "velo100 = pd.read_csv('./grn_vs_velocity/end_df_velocity_100.csv', index_col=0)\n",
    "noclip100 = pd.read_csv('./grn_vs_velocity/end_df_noclipping_100.csv', index_col=0)\n",
    "clip100 = pd.read_csv('./grn_vs_velocity/end_df_clipping_100.csv', index_col=0)"
   ]
  },
  {
   "cell_type": "code",
   "execution_count": 3,
   "id": "banned-fishing",
   "metadata": {},
   "outputs": [],
   "source": [
    "df = start.merge(velo100, left_index=True, right_index=True).merge(noclip100, left_index=True, right_index=True).merge(clip100, left_index=True, right_index=True)"
   ]
  },
  {
   "cell_type": "code",
   "execution_count": 4,
   "id": "floppy-manor",
   "metadata": {},
   "outputs": [],
   "source": [
    "df.columns = ['start', 'velocity','grn_no_clipping','grn_clipping']"
   ]
  },
  {
   "cell_type": "code",
   "execution_count": 5,
   "id": "engaging-rental",
   "metadata": {},
   "outputs": [],
   "source": [
    "df = df.melt(ignore_index=False).reset_index()"
   ]
  },
  {
   "cell_type": "code",
   "execution_count": 6,
   "id": "commercial-gross",
   "metadata": {},
   "outputs": [
    {
     "data": {
      "text/html": [
       "<div>\n",
       "<style scoped>\n",
       "    .dataframe tbody tr th:only-of-type {\n",
       "        vertical-align: middle;\n",
       "    }\n",
       "\n",
       "    .dataframe tbody tr th {\n",
       "        vertical-align: top;\n",
       "    }\n",
       "\n",
       "    .dataframe thead th {\n",
       "        text-align: right;\n",
       "    }\n",
       "</style>\n",
       "<table border=\"1\" class=\"dataframe\">\n",
       "  <thead>\n",
       "    <tr style=\"text-align: right;\">\n",
       "      <th></th>\n",
       "      <th>index</th>\n",
       "      <th>variable</th>\n",
       "      <th>value</th>\n",
       "    </tr>\n",
       "  </thead>\n",
       "  <tbody>\n",
       "    <tr>\n",
       "      <th>0</th>\n",
       "      <td>Ductal</td>\n",
       "      <td>start</td>\n",
       "      <td>24.78</td>\n",
       "    </tr>\n",
       "    <tr>\n",
       "      <th>1</th>\n",
       "      <td>Ngn3 high EP</td>\n",
       "      <td>start</td>\n",
       "      <td>17.37</td>\n",
       "    </tr>\n",
       "    <tr>\n",
       "      <th>2</th>\n",
       "      <td>Pre-endocrine</td>\n",
       "      <td>start</td>\n",
       "      <td>16.02</td>\n",
       "    </tr>\n",
       "    <tr>\n",
       "      <th>3</th>\n",
       "      <td>Beta</td>\n",
       "      <td>start</td>\n",
       "      <td>15.99</td>\n",
       "    </tr>\n",
       "    <tr>\n",
       "      <th>4</th>\n",
       "      <td>Alpha</td>\n",
       "      <td>start</td>\n",
       "      <td>13.01</td>\n",
       "    </tr>\n",
       "  </tbody>\n",
       "</table>\n",
       "</div>"
      ],
      "text/plain": [
       "           index variable  value\n",
       "0         Ductal    start  24.78\n",
       "1   Ngn3 high EP    start  17.37\n",
       "2  Pre-endocrine    start  16.02\n",
       "3           Beta    start  15.99\n",
       "4          Alpha    start  13.01"
      ]
     },
     "execution_count": 6,
     "metadata": {},
     "output_type": "execute_result"
    }
   ],
   "source": [
    "df.head()"
   ]
  },
  {
   "cell_type": "code",
   "execution_count": 13,
   "id": "least-guard",
   "metadata": {},
   "outputs": [],
   "source": [
    "colors = [\"#FF1493\", '#00B300',\"#00BFFF\", '#00B2EE']"
   ]
  },
  {
   "cell_type": "code",
   "execution_count": 14,
   "id": "encouraging-opportunity",
   "metadata": {},
   "outputs": [],
   "source": [
    "order = ['Ductal','Ngn3 low EP', 'Ngn3 high EP','Pre-endocrine',\n",
    "         'Delta','Epsilon','Alpha','Beta']"
   ]
  },
  {
   "cell_type": "code",
   "execution_count": 15,
   "id": "smaller-estonia",
   "metadata": {},
   "outputs": [
    {
     "data": {
      "text/plain": [
       "<AxesSubplot:xlabel='value', ylabel='index'>"
      ]
     },
     "execution_count": 15,
     "metadata": {},
     "output_type": "execute_result"
    },
    {
     "data": {
      "image/png": "[encoded data removed]",
      "text/plain": [
       "<Figure size 504x432 with 1 Axes>"
      ]
     },
     "metadata": {},
     "output_type": "display_data"
    }
   ],
   "source": [
    "plt.figure(figsize=[7, 6])\n",
    "sns.barplot(y=\"index\", x=\"value\", hue=\"variable\", data=df, orient='h', palette=colors, order = order, capsize=20)"
   ]
  },
  {
   "cell_type": "code",
   "execution_count": null,
   "id": "checked-donna",
   "metadata": {},
   "outputs": [],
   "source": []
  },
  {
   "cell_type": "code",
   "execution_count": null,
   "id": "textile-basis",
   "metadata": {},
   "outputs": [],
   "source": [
    "import multiprocessing as mp"
   ]
  },
  {
   "cell_type": "code",
   "execution_count": null,
   "id": "constant-blade",
   "metadata": {},
   "outputs": [],
   "source": [
    "def trajectories(tmat, n_steps, n_neighbors, n_cells, n_duplication):\n",
    "    start_cell_id_array = np.repeat(np.arange(n_cells), n_duplication)\n",
    "    transitions = []\n",
    "    for i in start_cell_id_array:\n",
    "        X = [i]\n",
    "        for _ in range (n_steps):\n",
    "            t = T[X[-1]]\n",
    "            indices, p = t.indices, t.data\n",
    "            idx = np.argsort(t.data)[::-1][:n_neighbors]\n",
    "            indices, p = indices[idx], p[idx]\n",
    "            p /=np.sum(p)\n",
    "            ix = np.random.choice(indices, p = p)\n",
    "            X.append(ix)\n",
    "        transitions.append(X)\n",
    "    #results:\n",
    "    trajectory_df = pd.DataFrame(transitions)\n",
    "    trajectory_df.index = trajectory_df[0]\n",
    "    return np.asarray(trajectory_df)"
   ]
  },
  {
   "cell_type": "code",
   "execution_count": null,
   "id": "automotive-shark",
   "metadata": {},
   "outputs": [],
   "source": [
    "ns = np.array([int(n_duplication/10)]*10)\n",
    "pool = mp.Pool(10)\n",
    "rngs = [np.random.RandomState(i) for i in range(10)]\n",
    "results = np.array(pool.map(trajectories, zip(rngs,ns)))\n"
   ]
  }
 ],
 "metadata": {
  "kernelspec": {
   "display_name": "celloracle_py",
   "language": "python",
   "name": "celloracle_py"
  },
  "language_info": {
   "codemirror_mode": {
    "name": "ipython",
    "version": 3
   },
   "file_extension": ".py",
   "mimetype": "text/x-python",
   "name": "python",
   "nbconvert_exporter": "python",
   "pygments_lexer": "ipython3",
   "version": "3.6.13"
  }
 },
 "nbformat": 4,
 "nbformat_minor": 5
}
